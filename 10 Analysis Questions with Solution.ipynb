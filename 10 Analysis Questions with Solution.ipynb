{
 "cells": [
  {
   "cell_type": "markdown",
   "metadata": {},
   "source": [
    "<img src=\"DaThabor_Logo.png\" width=\"200\" height=\"100\">\n",
    "\n",
    "\n",
    "# 10 ANALYTICS QUESTIONS ON COVID-19 DATA SET\n",
    "\n",
    "<br>\n",
    "\n",
    "<img src=\"https://www.scientificanimations.com/wp-content/uploads/2020/01/3D-medical-animation-coronavirus-structure.jpg\" width=\"600\" height=\"300\">\n",
    "<font size=\"2\">Figure 1: COVID-19 Virus structure</font>\n",
    "<br>\n",
    "\n",
    "Image credits : [Scientific Animations](https://www.scientificanimations.com/wiki-images/) under a [CC BY-SA 4.0](https://creativecommons.org/licenses/by-sa/4.0/) license\n",
    "\n",
    "\n",
    "## Introduction\n",
    "\n",
    "As part of the mentoring program with Thabor Walbeek, the team has worked on 10 questions to analyze the COVID-19 data set. This notebook describes the questions, the results, and mostly the way to analyze, things to keep in mind.\n",
    "\n",
    "****\n",
    "\n",
    "**Q1: Which 2 countries have the absolute maximum number of new cases on 30th March 2020?**\n",
    "\n",
    "****\n",
    "\n",
    "The first question already has a few things to keep in mind while analyzing it:\n",
    "\n",
    "1. We are looking for 2 countries only\n",
    "2. We need an absolute number (the non-negative value of a real number without regard to its sign)\n",
    "3. We need the maximum number of new cases\n",
    "4. For comparison we need to find the number of new cases on 30th March only\n",
    "\n",
    "#### **<span style=\"color:blue\">SOLUTION:</span>**\n",
    "\n",
    "In our data set the data is cumulative until the last day recorded. As the date are in columns it's difficult to work with, hence if we unpivot the date - where we add the date as 1 column only - and all the different dates as rows instead of columns, we get the cumulative numbers in rows only. We can now extract each day with the previous day to get the (absolute) new cases per day.\n",
    "\n",
    "Now we are almost there! If we group the data per country (as some have multiple rows for different regions/provinces, we get the total new cases per day per country. \n",
    "Then from here we filter the data on 30 March 2020 only, and sort the data in descending order based on new cases.\n",
    "\n",
    "From that we will see that the answer to the question is:\n",
    "\n",
    "1. US\n",
    "2. Spain\n",
    "\n",
    "<img src=\"Q1.png\" width=\"400\" height=\"200\">\n",
    "\n",
    "#### **<span style=\"color:blue\">PITFALLS:</span>**\n",
    "\n",
    "While answering this question, you have to take a few things in consideration:\n",
    "\n",
    "- The data set has cumulative data, which means it has the total number of new cases from the bgeinning of the data set until the specific date. To get the exact number of **new** cases per day, you have to extract the value with the value of the previous day.\n",
    "- The data set contains countries, but also a column for province/state/region. So make sure to aggregate on country level, to get the sum of all values per country."
   ]
  }
 ],
 "metadata": {
  "kernelspec": {
   "display_name": "Python 3",
   "language": "python",
   "name": "python3"
  },
  "language_info": {
   "codemirror_mode": {
    "name": "ipython",
    "version": 3
   },
   "file_extension": ".py",
   "mimetype": "text/x-python",
   "name": "python",
   "nbconvert_exporter": "python",
   "pygments_lexer": "ipython3",
   "version": "3.6.5"
  }
 },
 "nbformat": 4,
 "nbformat_minor": 4
}
