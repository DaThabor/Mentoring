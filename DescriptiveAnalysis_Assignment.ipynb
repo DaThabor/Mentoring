{
 "cells": [
  {
   "cell_type": "markdown",
   "metadata": {},
   "source": [
    "![](DaThabor_Logo.png)\n",
    "\n",
    "----------\n",
    "\n",
    "# MENTORING ASSIGNMENT\n",
    "\n",
    "<br>\n",
    "\n",
    "Deadline 02 May 2020\n",
    "\n",
    "<br>\n",
    "\n",
    "## Descriptive Analysis\n",
    "\n",
    "<br>\n",
    "\n",
    "Create your first descriptive analysis in a notebook\n",
    "\n",
    "<br>\n",
    "\n",
    "----------"
   ]
  },
  {
   "cell_type": "markdown",
   "metadata": {},
   "source": [
    "This weeks assignment is to follow this notebook, run the particular cells (which are predefined) and add your insights from the output in your own words. This is to learn how to interpret the data and the outcomes you see.\n",
    "\n",
    "<br>\n",
    "\n",
    "## Set up of environment\n",
    "\n",
    "First we will run the following code cell, which will load the required packages in your environment, and will load the data set."
   ]
  },
  {
   "cell_type": "code",
   "execution_count": 8,
   "metadata": {},
   "outputs": [],
   "source": [
    "#######################################\n",
    "#### IMPORT PACKAGES AND LOAD DATA ####\n",
    "#######################################\n",
    "\n",
    "# Load the packages\n",
    "import pandas as pd\n",
    "import numpy as np\n",
    "\n",
    "# Load the data sets\n",
    "confirmed = pd.read_csv(\"https://raw.githubusercontent.com/CSSEGISandData/COVID-19/master/csse_covid_19_data/csse_covid_19_time_series/time_series_covid19_confirmed_global.csv\")\n",
    "deaths = pd.read_csv(\"https://raw.githubusercontent.com/CSSEGISandData/COVID-19/master/csse_covid_19_data/csse_covid_19_time_series/time_series_covid19_deaths_global.csv\")\n",
    "recovered = pd.read_csv(\"https://raw.githubusercontent.com/CSSEGISandData/COVID-19/master/csse_covid_19_data/csse_covid_19_time_series/time_series_covid19_recovered_global.csv\")"
   ]
  },
  {
   "cell_type": "markdown",
   "metadata": {},
   "source": [
    "### 1.0 | Summary of data\n",
    "\n",
    "The first assignment is to look at the data set and get some basic information, before we get to the descriptive statistics of the data set."
   ]
  },
  {
   "cell_type": "code",
   "execution_count": null,
   "metadata": {},
   "outputs": [],
   "source": []
  }
 ],
 "metadata": {
  "kernelspec": {
   "display_name": "Python 3",
   "language": "python",
   "name": "python3"
  },
  "language_info": {
   "codemirror_mode": {
    "name": "ipython",
    "version": 3
   },
   "file_extension": ".py",
   "mimetype": "text/x-python",
   "name": "python",
   "nbconvert_exporter": "python",
   "pygments_lexer": "ipython3",
   "version": "3.6.5"
  }
 },
 "nbformat": 4,
 "nbformat_minor": 4
}
