{
 "cells": [
  {
   "cell_type": "markdown",
   "metadata": {},
   "source": [
    "![](DaThabor_Logo.png)\n",
    "\n",
    "----------\n",
    "\n",
    "# MENTORING SESSIONS\n",
    "\n",
    "<br>\n",
    "\n",
    "May, 2020\n",
    "\n",
    "<br>\n",
    "\n",
    "## Simple Linear Regression Assignment - Empty Notebook\n",
    "\n",
    "<br>\n",
    "\n",
    "----------"
   ]
  },
  {
   "cell_type": "markdown",
   "metadata": {},
   "source": [
    "Decided the packages to load:"
   ]
  },
  {
   "cell_type": "code",
   "execution_count": 1,
   "metadata": {},
   "outputs": [],
   "source": [
    "import pandas as pd\n",
    "import numpy as np\n",
    "import seaborn as sns\n",
    "import sklearn\n",
    "import matplotlib.pyplot as plt\n",
    "from sklearn.linear_model import LinearRegression\n",
    "from sklearn.metrics import r2_score\n",
    "import statsmodels.api as sm\n",
    "from sklearn.datasets import load_boston"
   ]
  },
  {
   "cell_type": "code",
   "execution_count": 2,
   "metadata": {},
   "outputs": [],
   "source": [
    "boston = load_boston()"
   ]
  },
  {
   "cell_type": "markdown",
   "metadata": {},
   "source": [
    "## DATA DICTIONARY\n",
    "\n",
    "    CRIM: Per capita crime rate by town\n",
    "    ZN: Proportion of residential land zoned for lots over 25,000 sq. ft\n",
    "    INDUS: Proportion of non-retail business acres per town\n",
    "    CHAS: Charles River dummy variable (= 1 if tract bounds river; 0 otherwise)\n",
    "    NOX: Nitric oxide concentration (parts per 10 million)\n",
    "    RM: Average number of rooms per dwelling\n",
    "    AGE: Proportion of owner-occupied units built prior to 1940\n",
    "    DIS: Weighted distances to five Boston employment centers\n",
    "    RAD: Index of accessibility to radial highways\n",
    "    TAX: Full-value property tax rate per $10,000\n",
    "    PTRATIO: Pupil-teacher ratio by town\n",
    "    \n",
    "    B: 1000(Bk — 0.63)², where Bk is the proportion of [people of African American descent] by town\n",
    "    \n",
    "    LSTAT: Percentage of lower status of the population\n",
    "    MEDV: Median value of owner-occupied homes in $1000s"
   ]
  },
  {
   "cell_type": "markdown",
   "metadata": {},
   "source": [
    "Load the data, add the target variable `MEDV` and look at the first 5 observations."
   ]
  },
  {
   "cell_type": "code",
   "execution_count": 3,
   "metadata": {},
   "outputs": [],
   "source": [
    "boston_df = pd.DataFrame(boston.data, columns=boston.feature_names)"
   ]
  },
  {
   "cell_type": "code",
   "execution_count": 4,
   "metadata": {},
   "outputs": [],
   "source": [
    "boston_df['MEDV'] = boston.target"
   ]
  }
 ],
 "metadata": {
  "kernelspec": {
   "display_name": "Python 3",
   "language": "python",
   "name": "python3"
  },
  "language_info": {
   "codemirror_mode": {
    "name": "ipython",
    "version": 3
   },
   "file_extension": ".py",
   "mimetype": "text/x-python",
   "name": "python",
   "nbconvert_exporter": "python",
   "pygments_lexer": "ipython3",
   "version": "3.6.5"
  }
 },
 "nbformat": 4,
 "nbformat_minor": 4
}
